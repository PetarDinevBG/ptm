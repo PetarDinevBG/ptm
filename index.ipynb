{
 "cells": [
  {
   "cell_type": "markdown",
   "metadata": {},
   "source": [
    "# Practical Introduction to Text Mining\n",
    "\n",
    "## Contents\n",
    "\n",
    "In the digital age, large collections of text are an increasingly attractive data source for analysis in the social sciences. Corpora from thousands up to several millions of retro-digitized or natively digital documents cannot be investigated with conventional, manual methods alone. (Semi-)automatic computational analysis algorithms, also known as text mining, provide interesting opportunities for social scientists to extend their toolbox.\n",
    "\n",
    "To realize complex designs in empirical social research, scientists need basic knowledge of computational algorithms to be able to select those appropriate for their needs. Specific projects may further require certain adaptations to standard procedures, language resources or analysis workflows. Instead of relying on off-the-shelf analysis software, using script programming languages is a very powerful way to fulfill such requirements. The course teaches an overview of text mining in connection with data acquisition, preprocessing and methodological integration using the statistical programming language R (www.r-project.org).\n",
    "\n",
    "In sessions alternating between lectures and tutorials, we teach theoretical and methodological foundations, introduce exemplary studies and get hands on programming to realize different analyses. \n",
    "\n",
    "## Goals\n",
    "\n",
    "Participants will learn about opportunities and limits of text mining methods to analyze qualitative and quantitative aspects of large text collections. With example scripts provided in the programming language R, participants will learn how to realize single steps of such an analysis on a specific corpus. We cover a range of text mining methods from simple lexicometric measures such as word frequencies, key term extraction and co-occurrence analysis, to more complex machine learning approaches such as topic models and supervised text classification. The goal is to provide a broad overview of several technologies already established in social sciences. Participants will be enabled to identify their own priorities and to lay foundations for further independent studying tailored to their individual needs.\n",
    "\n",
    "## Requirements\n",
    "\n",
    "We expect willingness to learn about algorithmic foundations of computational and statistical text analysis technologies. For the hands-on part, we rely on scripts in the programming language R. Thus, we strongly recommend some basic knowledge of R, to successfully take part in the tutorial sessions of the course. \n",
    "\n",
    "If you already have a certain amount of knowledge in another programming language, learning R will be easy for you. However, since R is a statistical programming language, some of its concepts largely differ from other languages. \n",
    "\n",
    "For participants without basic knowledge of R, we strongly recommend to learn at least a little in preparation of the course.\n",
    "\n",
    "For a very brief overview of common R commands see: [Basic R functions](tutorial_0.ipynb)\n",
    "\n",
    "## Tutorials\n",
    "\n",
    "The course consists of tutorials described in [this paper](http://gscl2017.dfki.de/proceedings.php). \n",
    "\n",
    "1. [Processing of textual data](tutorial_1.ipynb)\n",
    "2. [Frequency analysis](tutorial_2.ipynb)\n",
    "3. [Key term extraction](tutorial_3.ipynb)\n",
    "4. [Co-occurrence analysis](tutorial_4.ipynb)\n",
    "5. [Model inference](tutorial_5.ipynb)\n",
    "6. [Model application and visualization](tutorial_6.ipynb)\n",
    "\n",
    "## License\n",
    "\n",
    "These notebooks are a shortend [Jupyter version](http://jupyter.org/) of the [tm4ss - Text Mining for Social Scientists and Digital Humanists](https://tm4ss.github.io/) in R by Gregor Wiedemann and Andreas Niekler. Ihe original work was freely released under GPLv3 in September 2017. If you use (parts of) it for your own teaching or analysis, please cite\n",
    "\n",
    "```\n",
    "Wiedemann, Gregor; Niekler, Andreas (2017): Hands-on: a five day text mining course for humanists and social scientists in R. Proceedings of the 1st Workshop Teaching NLP for Digital Humanities (Teach4DH), GSCL 2017, Berlin.\n",
    "```"
   ]
  },
  {
   "cell_type": "code",
   "execution_count": null,
   "metadata": {},
   "outputs": [],
   "source": []
  }
 ],
 "metadata": {
  "kernelspec": {
   "display_name": "R",
   "language": "R",
   "name": "ir"
  },
  "language_info": {
   "codemirror_mode": "r",
   "file_extension": ".r",
   "mimetype": "text/x-r-source",
   "name": "R",
   "pygments_lexer": "r",
   "version": "3.3.2"
  }
 },
 "nbformat": 4,
 "nbformat_minor": 2
}
