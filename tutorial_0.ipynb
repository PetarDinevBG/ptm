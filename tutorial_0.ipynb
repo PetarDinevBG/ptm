{
 "cells": [
  {
   "cell_type": "markdown",
   "metadata": {},
   "source": [
    "<!--NAVIGATION-->\n",
    "< | [Contents](index.ipynb) | [Processing of textual data](tutorial_1.ipynb) >"
   ]
  },
  {
   "cell_type": "markdown",
   "metadata": {},
   "source": [
    "# R Basic functions"
   ]
  },
  {
   "cell_type": "markdown",
   "metadata": {},
   "source": [
    "## Basic Operations"
   ]
  },
  {
   "cell_type": "code",
   "execution_count": null,
   "metadata": {},
   "outputs": [],
   "source": [
    "1 + 2      # addition\n",
    "sqrt(9)    # square root function\n",
    "x <- 1     # assignment\n",
    "1:10       # sequence\n",
    "\n",
    "# install.packages(\"tm\") \n",
    "library(\"tm\")\n",
    "require(\"tm\")\n",
    "\n",
    "# help\n",
    "help(require) \n",
    "?require\n",
    "apropos(\"nova\")\n",
    "\n",
    "# set your working directory\n",
    "setwd(\"~\") "
   ]
  },
  {
   "cell_type": "markdown",
   "metadata": {},
   "source": [
    "## Data types"
   ]
  },
  {
   "cell_type": "code",
   "execution_count": null,
   "metadata": {},
   "outputs": [],
   "source": [
    "x <- 10.5\n",
    "typeof(x)\n",
    "class(x)\n",
    "as.integer(x)\n",
    "is.integer(x)\n",
    "is.integer(as.integer(x))\n",
    "x <- \"3.14\"\n",
    "typeof(x)\n",
    "x <- as.double(x)\n",
    "1:3 == c(1, 2, 3)"
   ]
  },
  {
   "cell_type": "markdown",
   "metadata": {},
   "source": [
    "## Vector, matrix and data.frames"
   ]
  },
  {
   "cell_type": "code",
   "execution_count": null,
   "metadata": {},
   "outputs": [],
   "source": [
    "options(stringsAsFactors = F)\n",
    "\n",
    "myvector <- c(1, 2, 3)\n",
    "names(myvector) <- c(\"one\", \"two\", \"three\")\n",
    "print(myvector)\n",
    "print(myvector[1:2])\n",
    "print(myvector[-1])\n",
    "sum(myvector)\n",
    "mean(myvector)\n",
    "\n",
    "mymatrix <- matrix(0, nrow=3, ncol=4)\n",
    "rownames(mymatrix) <- c(\"one\", \"two\", \"three\")\n",
    "colnames(mymatrix) <- c(\"house\", \"sun\", \"tree\", \".\")\n",
    "mymatrix[, 1] <- 12\n",
    "mymatrix[, \"sun\"] <- 4\n",
    "mymatrix[3, 4] <- 5\n",
    "mymatrix[2, 3:4] <- 9\n",
    "colSums(mymatrix)\n",
    "rowSums(mymatrix)\n",
    "colMeans(mymatrix)\n",
    "\n",
    "mydatdaframe <- data.frame(v = c(1, 2, 3), c = as.character(myvector), n = c(\"one\", \"two\", \"three\"))\n",
    "mydatdaframe$v\n",
    "mydatdaframe$c\n",
    "mydatdaframe[, \"c\"]\n",
    "mydatdaframe[1, ]\n",
    "rowSums(mydatdaframe)"
   ]
  },
  {
   "cell_type": "markdown",
   "metadata": {},
   "source": [
    "## More basic functions"
   ]
  },
  {
   "cell_type": "code",
   "execution_count": null,
   "metadata": {},
   "outputs": [],
   "source": [
    "sort(mydatdaframe$n)\n",
    "sort(mydatdaframe$n, decreasing = T)\n",
    "c(myvector, myvector)\n",
    "is.vector(myvector)\n",
    "is.matrix(mymatrix)\n",
    "is.matrix(myvector)\n",
    "\n",
    "mymatrix / 2\n",
    "mymatrix / myvector\n",
    "t(mymatrix)\n",
    "mymatrix %*% t(mymatrix)\n",
    "\n",
    "\n",
    "cbind(mymatrix, myvector)\n",
    "rbind(mymatrix, myvector)\n",
    "\n",
    "data(USArrests)\n",
    "View(USArrests)\n",
    "dim(USArrests)\n",
    "nrow(USArrests)\n",
    "ncol(USArrests)\n",
    "length(USArrests)\n",
    "max(USArrests)\n",
    "\n",
    "which.max(USArrests[, \"Murder\"])\n",
    "\n",
    "o <- order(USArrests[, \"Murder\"], decreasing = T)\n",
    "USArrests[o, ]\n",
    "\n",
    "murderRates <- USArrests[o[1:5], \"Murder\"]\n",
    "names(murderRates) <- rownames(USArrests)[o[1:5]]\n",
    "barplot(murderRates)"
   ]
  },
  {
   "cell_type": "code",
   "execution_count": null,
   "metadata": {},
   "outputs": [],
   "source": []
  }
 ],
 "metadata": {
  "kernelspec": {
   "display_name": "R",
   "language": "R",
   "name": "ir"
  },
  "language_info": {
   "codemirror_mode": "r",
   "file_extension": ".r",
   "mimetype": "text/x-r-source",
   "name": "R",
   "pygments_lexer": "r",
   "version": "3.3.2"
  }
 },
 "nbformat": 4,
 "nbformat_minor": 2
}
