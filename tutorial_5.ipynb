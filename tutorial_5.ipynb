{
 "cells": [
  {
   "cell_type": "markdown",
   "metadata": {},
   "source": [
    "<!--NAVIGATION-->\n",
    "< [Co-occurrence analysis](tutorial_4.ipynb) | [Contents](index.ipynb) | [Model application and visualization](tutorial_6.ipynb) >"
   ]
  },
  {
   "cell_type": "markdown",
   "metadata": {},
   "source": [
    "# Model inference"
   ]
  },
  {
   "cell_type": "markdown",
   "metadata": {},
   "source": [
    "In this tutorial the application and the basic operations of the topic modelling packages in R are introduced. We apply the LDA model from @blei_latent_2003 to a publicly available dataset: the Job postings from the Kaggle page. \n",
    "\n",
    "We introduce different observations which can be derived from the posterior distributions of the LDA model. These basic observations allow to interpret and quantify semantically coherent topics within the data. It is also possible to compare the topical composition of a text source with other sources.\n",
    "\n",
    "First, we start with initializing our text data set, creating a quanteda-corpus object from it, apply some pre-processing measures, and finally create a Document-Term-Matrix (DTM). For the model inferences we use the `topicmodels`-package of R @hornik_topicmodels:_2011."
   ]
  },
  {
   "cell_type": "code",
   "execution_count": 18,
   "metadata": {},
   "outputs": [],
   "source": [
    "# Setup and initial package import\n",
    "options(stringsAsFactors = FALSE)\n",
    "require(quanteda)\n",
    "require(magrittr)\n",
    "require(dplyr)\n",
    "require(topicmodels)\n",
    "require(lda)\n",
    "require(openNLP)\n",
    "require(NLP)\n",
    "require(data.table)\n",
    "# Read stop word file\n",
    "english_stopwords <- readLines(\"resources/stopwords_en.txt\", encoding = \"UTF-8\")"
   ]
  },
  {
   "cell_type": "markdown",
   "metadata": {},
   "source": [
    "We read a CSV containing 19.000 \"Job Description\". The texts are freely available from https://www.kaggle.com/madhab/jobposts. Our CSV file has the format: `\"jobpost\";\"date\";\"Title\"; etc.`..\n",
    "\n",
    "For linguistic preprocessing to unify the vocabulary, we can use either stemming or lemmatization. Stemming can be done by rules for a given language (use the `stemDocument` function). We will use a simple lemmatization on the basis of a lookup table (`resources/baseform_en.tsv`)."
   ]
  },
  {
   "cell_type": "code",
   "execution_count": 19,
   "metadata": {},
   "outputs": [],
   "source": [
    "# Read text data from CSV file\n",
    "textdata <- read.csv(\"data/data job posts.csv\", header = TRUE, sep = \",\", encoding = \"UTF-8\",quote = \"\\\"\")\n",
    "textdata <- as.data.table(textdata)\n",
    "\n",
    "english_stopwords <- readLines(\"resources/stopwords_en.txt\", encoding = \"UTF-8\")\n",
    "\n",
    "textdata %<>% filter(!duplicated(jobpost))\n",
    "textdata %<>% mutate(d_id = 1:nrow(textdata))\n",
    "\n",
    "#Build a dictionary of lemmas\n",
    "lemmaData <- read.csv2(\"resources/baseform_en.tsv\", sep=\"\\t\", header=FALSE, encoding = \"UTF-8\", stringsAsFactors = F)\n",
    "\n",
    "data_corpus <- corpus(textdata$jobpost, docnames = textdata$d_id)\n",
    " \n",
    "data_dfm_entries <- data_corpus %>% tokens() %>% tokens_remove(pattern = c(stopwords(),english_stopwords)) %>%\n",
    "  tokens(remove_punct = TRUE, remove_numbers = TRUE, remove_symbols = TRUE) %>% tokens_tolower() %>% \n",
    "  tokens_replace(., lemmaData$V1, lemmaData$V2) %>%\n",
    "  tokens_ngrams(1) %>% dfm() \n",
    "\n",
    "\n",
    "data_dfm_entries_sub <- data_dfm_entries %>% dfm_trim(min_docfreq = 5) %>%\n",
    "  dfm_select(pattern = \"[a-z]\", valuetype = \"regex\", selection = 'keep')\n",
    "\n",
    "colnames(data_dfm_entries_sub) <- colnames(data_dfm_entries_sub) %>% stringi::stri_replace_all_regex(\"[^_a-z]\", \"\") \n",
    "\n",
    "data_dfm_entries_sub <- dfm_compress(data_dfm_entries_sub, \"features\")\n",
    "\n",
    "data_dfm_entries_sub <- \n",
    "  data_dfm_entries_sub[rowSums(data_dfm_entries_sub) >=10, nchar(colnames(data_dfm_entries_sub)) > 1]\n"
   ]
  },
  {
   "cell_type": "markdown",
   "metadata": {},
   "source": [
    "Now we save the corpus objects for later use and create the DTM. We keep only terms occurring more than 5 times."
   ]
  },
  {
   "cell_type": "code",
   "execution_count": 20,
   "metadata": {},
   "outputs": [],
   "source": [
    "save(data_corpus, file = \"corpus.RData\")\n",
    "\n",
    "# RENAME\n",
    "DTM <- data_dfm_entries_sub"
   ]
  },
  {
   "cell_type": "markdown",
   "metadata": {},
   "source": [
    "We save our DTM for later use in other tutorials, so we do not need to compute it all over again."
   ]
  },
  {
   "cell_type": "code",
   "execution_count": 21,
   "metadata": {},
   "outputs": [
    {
     "data": {
      "text/html": [
       "<ol class=list-inline>\n",
       "\t<li>18891</li>\n",
       "\t<li>10079</li>\n",
       "</ol>\n"
      ],
      "text/latex": [
       "\\begin{enumerate*}\n",
       "\\item 18891\n",
       "\\item 10079\n",
       "\\end{enumerate*}\n"
      ],
      "text/markdown": [
       "1. 18891\n",
       "2. 10079\n",
       "\n",
       "\n"
      ],
      "text/plain": [
       "[1] 18891 10079"
      ]
     },
     "metadata": {},
     "output_type": "display_data"
    }
   ],
   "source": [
    "# have a look at the number of documents and terms in the matrix\n",
    "dim(DTM)\n",
    "save(DTM, file = \"DTM.RData\")"
   ]
  },
  {
   "cell_type": "markdown",
   "metadata": {},
   "source": [
    "## LDA Model inference\n",
    "\n",
    "The inference of topic models aims for the separation of a document collection into a fixed set of topics. Topic models are unsupervised machine learning algorithms. Thus, they are suited best for exploring data. It is useful to experiment with different parameters to find the optimal setting for the intended analysis.\n",
    "\n",
    "For parametrized models like the Latent Dirichlet Allocation the number of topics K has to be set in advance. The decision for an optimal K is dependent on different factors. If K is too low the collection of documents is separated into few very coarse semantic coherent topics. If K is too large the result is a separation into very detailed topics which are hard to distinguish or interpret. \n",
    "\n",
    "As a start we choose a manually overseeable number of 20 topics. The other hyper-parameters relevant for the inference process are set to `alpha = 20` as prior for the topic-distributions, and beta to an automatically estimated value based on the given data. The inference is run with Gibbs sampling for 500 iterations."
   ]
  },
  {
   "cell_type": "code",
   "execution_count": 22,
   "metadata": {},
   "outputs": [
    {
     "name": "stdout",
     "output_type": "stream",
     "text": [
      "K = 20; V = 10079; M = 18885\n",
      "Sampling 500 iterations!\n",
      "Iteration 20 ...\n",
      "Iteration 40 ...\n",
      "Iteration 60 ...\n",
      "Iteration 80 ...\n",
      "Iteration 100 ...\n",
      "Iteration 120 ...\n",
      "Iteration 140 ...\n",
      "Iteration 160 ...\n",
      "Iteration 180 ...\n",
      "Iteration 200 ...\n",
      "Iteration 220 ...\n",
      "Iteration 240 ...\n",
      "Iteration 260 ...\n",
      "Iteration 280 ...\n",
      "Iteration 300 ...\n",
      "Iteration 320 ...\n",
      "Iteration 340 ...\n",
      "Iteration 360 ...\n",
      "Iteration 380 ...\n",
      "Iteration 400 ...\n",
      "Iteration 420 ...\n",
      "Iteration 440 ...\n",
      "Iteration 460 ...\n",
      "Iteration 480 ...\n",
      "Iteration 500 ...\n",
      "Gibbs sampling completed!\n"
     ]
    }
   ],
   "source": [
    "# number of topics\n",
    "K <- 20\n",
    "\n",
    "#Select only documents not by \"Donald J. Trump\"\n",
    "\n",
    "selector <- textdata %>% filter(Company != \"Samsung Electronics Representative Office in Armenia\") %>% select(\"d_id\")\n",
    "selector <- rownames(DTM) %in% as.character(selector$d_id)\n",
    "\n",
    "# compute the LDA model, inference via 500 iterations of Gibbs sampling\n",
    "topicModel <- LDA(DTM[selector,], K, method=\"Gibbs\", control=list(iter = 500, verbose = 20, alpha = 0.2, estimate.beta = TRUE))\n",
    "save(topicModel, file = \"topicModel.RData\")"
   ]
  },
  {
   "cell_type": "markdown",
   "metadata": {},
   "source": [
    "The inference can take quite long, dependent on the size of the vocabulary, the number of documents and the setting of K. Our calculation may take a few minutes. If an inference process takes too long on your computer, you can reduce the size of the vocabulary by raising the minimum frequency passed to the creation process of the document term matrix or reduce the number of iterations.\n",
    "\n",
    "After running the inference process for a while, two posterior distributions can be calculated. The first, called `theta`, represents the distributions of all topics K w.r.t. each document. The second posterior parameter, called `beta` represents the distribution of all terms V w.r.t. each topic. V represents the length of the vocabulary (`r ncol(DTM)`). Let's take a closer look:"
   ]
  },
  {
   "cell_type": "code",
   "execution_count": 23,
   "metadata": {},
   "outputs": [
    {
     "data": {
      "text/html": [
       "<strong>$names</strong> = <ol class=list-inline>\n",
       "\t<li>'terms'</li>\n",
       "\t<li>'topics'</li>\n",
       "</ol>\n"
      ],
      "text/latex": [
       "\\textbf{\\$names} = \\begin{enumerate*}\n",
       "\\item 'terms'\n",
       "\\item 'topics'\n",
       "\\end{enumerate*}\n"
      ],
      "text/markdown": [
       "**$names** = 1. 'terms'\n",
       "2. 'topics'\n",
       "\n",
       "\n"
      ],
      "text/plain": [
       "$names\n",
       "[1] \"terms\"  \"topics\"\n"
      ]
     },
     "metadata": {},
     "output_type": "display_data"
    },
    {
     "data": {
      "text/html": [
       "10079"
      ],
      "text/latex": [
       "10079"
      ],
      "text/markdown": [
       "10079"
      ],
      "text/plain": [
       "[1] 10079"
      ]
     },
     "metadata": {},
     "output_type": "display_data"
    },
    {
     "data": {
      "text/html": [
       "<ol class=list-inline>\n",
       "\t<li>20</li>\n",
       "\t<li>10079</li>\n",
       "</ol>\n"
      ],
      "text/latex": [
       "\\begin{enumerate*}\n",
       "\\item 20\n",
       "\\item 10079\n",
       "\\end{enumerate*}\n"
      ],
      "text/markdown": [
       "1. 20\n",
       "2. 10079\n",
       "\n",
       "\n"
      ],
      "text/plain": [
       "[1]    20 10079"
      ]
     },
     "metadata": {},
     "output_type": "display_data"
    },
    {
     "data": {
      "text/html": [
       "<dl class=dl-horizontal>\n",
       "\t<dt>1</dt>\n",
       "\t\t<dd>1</dd>\n",
       "\t<dt>2</dt>\n",
       "\t\t<dd>1</dd>\n",
       "\t<dt>3</dt>\n",
       "\t\t<dd>1</dd>\n",
       "\t<dt>4</dt>\n",
       "\t\t<dd>1</dd>\n",
       "\t<dt>5</dt>\n",
       "\t\t<dd>1</dd>\n",
       "\t<dt>6</dt>\n",
       "\t\t<dd>1</dd>\n",
       "\t<dt>7</dt>\n",
       "\t\t<dd>1</dd>\n",
       "\t<dt>8</dt>\n",
       "\t\t<dd>1</dd>\n",
       "\t<dt>9</dt>\n",
       "\t\t<dd>1</dd>\n",
       "\t<dt>10</dt>\n",
       "\t\t<dd>1</dd>\n",
       "\t<dt>11</dt>\n",
       "\t\t<dd>1</dd>\n",
       "\t<dt>12</dt>\n",
       "\t\t<dd>1</dd>\n",
       "\t<dt>13</dt>\n",
       "\t\t<dd>1</dd>\n",
       "\t<dt>14</dt>\n",
       "\t\t<dd>1</dd>\n",
       "\t<dt>15</dt>\n",
       "\t\t<dd>1</dd>\n",
       "\t<dt>16</dt>\n",
       "\t\t<dd>1</dd>\n",
       "\t<dt>17</dt>\n",
       "\t\t<dd>1</dd>\n",
       "\t<dt>18</dt>\n",
       "\t\t<dd>1</dd>\n",
       "\t<dt>19</dt>\n",
       "\t\t<dd>1</dd>\n",
       "\t<dt>20</dt>\n",
       "\t\t<dd>1</dd>\n",
       "</dl>\n"
      ],
      "text/latex": [
       "\\begin{description*}\n",
       "\\item[1] 1\n",
       "\\item[2] 1\n",
       "\\item[3] 1\n",
       "\\item[4] 1\n",
       "\\item[5] 1\n",
       "\\item[6] 1\n",
       "\\item[7] 1\n",
       "\\item[8] 1\n",
       "\\item[9] 1\n",
       "\\item[10] 1\n",
       "\\item[11] 1\n",
       "\\item[12] 1\n",
       "\\item[13] 1\n",
       "\\item[14] 1\n",
       "\\item[15] 1\n",
       "\\item[16] 1\n",
       "\\item[17] 1\n",
       "\\item[18] 1\n",
       "\\item[19] 1\n",
       "\\item[20] 1\n",
       "\\end{description*}\n"
      ],
      "text/markdown": [
       "1\n",
       ":   12\n",
       ":   13\n",
       ":   14\n",
       ":   15\n",
       ":   16\n",
       ":   17\n",
       ":   18\n",
       ":   19\n",
       ":   110\n",
       ":   111\n",
       ":   112\n",
       ":   113\n",
       ":   114\n",
       ":   115\n",
       ":   116\n",
       ":   117\n",
       ":   118\n",
       ":   119\n",
       ":   120\n",
       ":   1\n",
       "\n"
      ],
      "text/plain": [
       " 1  2  3  4  5  6  7  8  9 10 11 12 13 14 15 16 17 18 19 20 \n",
       " 1  1  1  1  1  1  1  1  1  1  1  1  1  1  1  1  1  1  1  1 "
      ]
     },
     "metadata": {},
     "output_type": "display_data"
    },
    {
     "data": {
      "text/html": [
       "18891"
      ],
      "text/latex": [
       "18891"
      ],
      "text/markdown": [
       "18891"
      ],
      "text/plain": [
       "[1] 18891"
      ]
     },
     "metadata": {},
     "output_type": "display_data"
    },
    {
     "data": {
      "text/html": [
       "<ol class=list-inline>\n",
       "\t<li>18885</li>\n",
       "\t<li>20</li>\n",
       "</ol>\n"
      ],
      "text/latex": [
       "\\begin{enumerate*}\n",
       "\\item 18885\n",
       "\\item 20\n",
       "\\end{enumerate*}\n"
      ],
      "text/markdown": [
       "1. 18885\n",
       "2. 20\n",
       "\n",
       "\n"
      ],
      "text/plain": [
       "[1] 18885    20"
      ]
     },
     "metadata": {},
     "output_type": "display_data"
    },
    {
     "data": {
      "text/html": [
       "<dl class=dl-horizontal>\n",
       "\t<dt>1</dt>\n",
       "\t\t<dd>1</dd>\n",
       "\t<dt>2</dt>\n",
       "\t\t<dd>1</dd>\n",
       "\t<dt>3</dt>\n",
       "\t\t<dd>1</dd>\n",
       "\t<dt>4</dt>\n",
       "\t\t<dd>1</dd>\n",
       "\t<dt>5</dt>\n",
       "\t\t<dd>1</dd>\n",
       "\t<dt>6</dt>\n",
       "\t\t<dd>1</dd>\n",
       "\t<dt>7</dt>\n",
       "\t\t<dd>1</dd>\n",
       "\t<dt>8</dt>\n",
       "\t\t<dd>1</dd>\n",
       "\t<dt>9</dt>\n",
       "\t\t<dd>1</dd>\n",
       "\t<dt>10</dt>\n",
       "\t\t<dd>1</dd>\n",
       "</dl>\n"
      ],
      "text/latex": [
       "\\begin{description*}\n",
       "\\item[1] 1\n",
       "\\item[2] 1\n",
       "\\item[3] 1\n",
       "\\item[4] 1\n",
       "\\item[5] 1\n",
       "\\item[6] 1\n",
       "\\item[7] 1\n",
       "\\item[8] 1\n",
       "\\item[9] 1\n",
       "\\item[10] 1\n",
       "\\end{description*}\n"
      ],
      "text/markdown": [
       "1\n",
       ":   12\n",
       ":   13\n",
       ":   14\n",
       ":   15\n",
       ":   16\n",
       ":   17\n",
       ":   18\n",
       ":   19\n",
       ":   110\n",
       ":   1\n",
       "\n"
      ],
      "text/plain": [
       " 1  2  3  4  5  6  7  8  9 10 \n",
       " 1  1  1  1  1  1  1  1  1  1 "
      ]
     },
     "metadata": {},
     "output_type": "display_data"
    }
   ],
   "source": [
    "# have a look to some of the results (posterior distributions)\n",
    "tmResult <- posterior(topicModel)\n",
    "save(tmResult, file = \"tmResult.RData\") #we save the posterior for later use\n",
    "# format of the resulting object\n",
    "attributes(tmResult)\n",
    "\n",
    "ncol(DTM)              # lengthOfVocab\n",
    "# topics are probability distributions over the entire vocabulary\n",
    "beta <- tmResult$terms   # get beta from results\n",
    "dim(beta)                # K distributions over nTerms(DTM) terms\n",
    "rowSums(beta)            # rows in beta sum to 1\n",
    "nrow(DTM)               # size of collection \n",
    "# for every document we have a probaility distribution of its contained topics\n",
    "theta <- tmResult$topics \n",
    "dim(theta)               # nDocs(DTM) distributions over K topics\n",
    "rowSums(theta)[1:10]     # rows in theta sum to 1"
   ]
  },
  {
   "cell_type": "markdown",
   "metadata": {},
   "source": [
    "## Ranking of words\n",
    "\n",
    "Now let us look at the 10 **most probable words** for each topic within the inferred `beta` distribution."
   ]
  },
  {
   "cell_type": "code",
   "execution_count": 24,
   "metadata": {},
   "outputs": [
    {
     "data": {
      "text/html": [
       "<table>\n",
       "<thead><tr><th scope=col>Topic 1</th><th scope=col>Topic 2</th><th scope=col>Topic 3</th><th scope=col>Topic 4</th><th scope=col>Topic 5</th><th scope=col>Topic 6</th><th scope=col>Topic 7</th><th scope=col>Topic 8</th><th scope=col>Topic 9</th><th scope=col>Topic 10</th><th scope=col>Topic 11</th><th scope=col>Topic 12</th><th scope=col>Topic 13</th><th scope=col>Topic 14</th><th scope=col>Topic 15</th><th scope=col>Topic 16</th><th scope=col>Topic 17</th><th scope=col>Topic 18</th><th scope=col>Topic 19</th><th scope=col>Topic 20</th></tr></thead>\n",
       "<tbody>\n",
       "\t<tr><td>job              </td><td>legal            </td><td>system           </td><td>child            </td><td>application      </td><td>application      </td><td>program          </td><td>job              </td><td>project          </td><td>open             </td><td>project          </td><td>market           </td><td>bank             </td><td>management       </td><td>job              </td><td>accounting       </td><td>test             </td><td>job              </td><td>job              </td><td>application      </td></tr>\n",
       "\t<tr><td>application      </td><td>application      </td><td>application      </td><td>community        </td><td>train            </td><td>bank             </td><td>project          </td><td>application      </td><td>development      </td><td>job              </td><td>programme        </td><td>sale             </td><td>credit           </td><td>project          </td><td>service          </td><td>financial        </td><td>software         </td><td>design           </td><td>application      </td><td>experience       </td></tr>\n",
       "\t<tr><td>mention          </td><td>job              </td><td>network          </td><td>development      </td><td>english          </td><td>job              </td><td>armenia          </td><td>office           </td><td>application      </td><td>armenia          </td><td>application      </td><td>job              </td><td>job              </td><td>plan             </td><td>application      </td><td>report           </td><td>application      </td><td>application      </td><td>mention          </td><td>job              </td></tr>\n",
       "\t<tr><td>website          </td><td>work             </td><td>knowledge        </td><td>armenia          </td><td>language         </td><td>form             </td><td>job              </td><td>skill            </td><td>program          </td><td>website          </td><td>armenia          </td><td>customer         </td><td>application      </td><td>ensure           </td><td>ensure           </td><td>finance          </td><td>job              </td><td>medium           </td><td>work             </td><td>development      </td></tr>\n",
       "\t<tr><td>post             </td><td>law              </td><td>experience       </td><td>work             </td><td>center           </td><td>wwwcareercenteram</td><td>work             </td><td>work             </td><td>armenia          </td><td>customer         </td><td>national         </td><td>product          </td><td>organization     </td><td>business         </td><td>work             </td><td>job              </td><td>knowledge        </td><td>web              </td><td>company          </td><td>software         </td></tr>\n",
       "\t<tr><td>wwwcareercenteram</td><td>knowledge        </td><td>job              </td><td>world            </td><td>career           </td><td>attachment       </td><td>experience       </td><td>mention          </td><td>rural            </td><td>announcement     </td><td>office           </td><td>skill            </td><td>mention          </td><td>ability          </td><td>hotel            </td><td>knowledge        </td><td>design           </td><td>website          </td><td>website          </td><td>knowledge        </td></tr>\n",
       "\t<tr><td>opportunity      </td><td>armenia          </td><td>database         </td><td>program          </td><td>armenia          </td><td>announcement     </td><td>application      </td><td>administrative   </td><td>experience       </td><td>application      </td><td>work             </td><td>application      </td><td>armenia          </td><td>manage           </td><td>require          </td><td>application      </td><td>experience       </td><td>work             </td><td>candidate        </td><td>work             </td></tr>\n",
       "\t<tr><td>date             </td><td>education        </td><td>datum            </td><td>ensure           </td><td>wwwcareercenteram</td><td>knowledge        </td><td>organization     </td><td>armenian         </td><td>job              </td><td>career           </td><td>international    </td><td>opportunity      </td><td>knowledge        </td><td>skill            </td><td>procedure        </td><td>prepare          </td><td>development      </td><td>communication    </td><td>wwwcareercenteram</td><td>developer        </td></tr>\n",
       "\t<tr><td>armenia          </td><td>insurance        </td><td>support          </td><td>support          </td><td>student          </td><td>cjsc             </td><td>development      </td><td>english          </td><td>market           </td><td>opportunity      </td><td>development      </td><td>company          </td><td>skill            </td><td>manager          </td><td>maintain         </td><td>tax              </td><td>engineer         </td><td>experience       </td><td>opportunity      </td><td>company          </td></tr>\n",
       "\t<tr><td>knowledge        </td><td>contract         </td><td>technical        </td><td>vision           </td><td>opportunity      </td><td>mention          </td><td>international    </td><td>letter           </td><td>sector           </td><td>knowledge        </td><td>support          </td><td>mention          </td><td>website          </td><td>develop          </td><td>armenia          </td><td>audit            </td><td>website          </td><td>mention          </td><td>knowledge        </td><td>mention          </td></tr>\n",
       "</tbody>\n",
       "</table>\n"
      ],
      "text/latex": [
       "\\begin{tabular}{llllllllllllllllllll}\n",
       " Topic 1 & Topic 2 & Topic 3 & Topic 4 & Topic 5 & Topic 6 & Topic 7 & Topic 8 & Topic 9 & Topic 10 & Topic 11 & Topic 12 & Topic 13 & Topic 14 & Topic 15 & Topic 16 & Topic 17 & Topic 18 & Topic 19 & Topic 20\\\\\n",
       "\\hline\n",
       "\t job               & legal             & system            & child             & application       & application       & program           & job               & project           & open              & project           & market            & bank              & management        & job               & accounting        & test              & job               & job               & application      \\\\\n",
       "\t application       & application       & application       & community         & train             & bank              & project           & application       & development       & job               & programme         & sale              & credit            & project           & service           & financial         & software          & design            & application       & experience       \\\\\n",
       "\t mention           & job               & network           & development       & english           & job               & armenia           & office            & application       & armenia           & application       & job               & job               & plan              & application       & report            & application       & application       & mention           & job              \\\\\n",
       "\t website           & work              & knowledge         & armenia           & language          & form              & job               & skill             & program           & website           & armenia           & customer          & application       & ensure            & ensure            & finance           & job               & medium            & work              & development      \\\\\n",
       "\t post              & law               & experience        & work              & center            & wwwcareercenteram & work              & work              & armenia           & customer          & national          & product           & organization      & business          & work              & job               & knowledge         & web               & company           & software         \\\\\n",
       "\t wwwcareercenteram & knowledge         & job               & world             & career            & attachment        & experience        & mention           & rural             & announcement      & office            & skill             & mention           & ability           & hotel             & knowledge         & design            & website           & website           & knowledge        \\\\\n",
       "\t opportunity       & armenia           & database          & program           & armenia           & announcement      & application       & administrative    & experience        & application       & work              & application       & armenia           & manage            & require           & application       & experience        & work              & candidate         & work             \\\\\n",
       "\t date              & education         & datum             & ensure            & wwwcareercenteram & knowledge         & organization      & armenian          & job               & career            & international     & opportunity       & knowledge         & skill             & procedure         & prepare           & development       & communication     & wwwcareercenteram & developer        \\\\\n",
       "\t armenia           & insurance         & support           & support           & student           & cjsc              & development       & english           & market            & opportunity       & development       & company           & skill             & manager           & maintain          & tax               & engineer          & experience        & opportunity       & company          \\\\\n",
       "\t knowledge         & contract          & technical         & vision            & opportunity       & mention           & international     & letter            & sector            & knowledge         & support           & mention           & website           & develop           & armenia           & audit             & website           & mention           & knowledge         & mention          \\\\\n",
       "\\end{tabular}\n"
      ],
      "text/markdown": [
       "\n",
       "Topic 1 | Topic 2 | Topic 3 | Topic 4 | Topic 5 | Topic 6 | Topic 7 | Topic 8 | Topic 9 | Topic 10 | Topic 11 | Topic 12 | Topic 13 | Topic 14 | Topic 15 | Topic 16 | Topic 17 | Topic 18 | Topic 19 | Topic 20 | \n",
       "|---|---|---|---|---|---|---|---|---|---|\n",
       "| job               | legal             | system            | child             | application       | application       | program           | job               | project           | open              | project           | market            | bank              | management        | job               | accounting        | test              | job               | job               | application       | \n",
       "| application       | application       | application       | community         | train             | bank              | project           | application       | development       | job               | programme         | sale              | credit            | project           | service           | financial         | software          | design            | application       | experience        | \n",
       "| mention           | job               | network           | development       | english           | job               | armenia           | office            | application       | armenia           | application       | job               | job               | plan              | application       | report            | application       | application       | mention           | job               | \n",
       "| website           | work              | knowledge         | armenia           | language          | form              | job               | skill             | program           | website           | armenia           | customer          | application       | ensure            | ensure            | finance           | job               | medium            | work              | development       | \n",
       "| post              | law               | experience        | work              | center            | wwwcareercenteram | work              | work              | armenia           | customer          | national          | product           | organization      | business          | work              | job               | knowledge         | web               | company           | software          | \n",
       "| wwwcareercenteram | knowledge         | job               | world             | career            | attachment        | experience        | mention           | rural             | announcement      | office            | skill             | mention           | ability           | hotel             | knowledge         | design            | website           | website           | knowledge         | \n",
       "| opportunity       | armenia           | database          | program           | armenia           | announcement      | application       | administrative    | experience        | application       | work              | application       | armenia           | manage            | require           | application       | experience        | work              | candidate         | work              | \n",
       "| date              | education         | datum             | ensure            | wwwcareercenteram | knowledge         | organization      | armenian          | job               | career            | international     | opportunity       | knowledge         | skill             | procedure         | prepare           | development       | communication     | wwwcareercenteram | developer         | \n",
       "| armenia           | insurance         | support           | support           | student           | cjsc              | development       | english           | market            | opportunity       | development       | company           | skill             | manager           | maintain          | tax               | engineer          | experience        | opportunity       | company           | \n",
       "| knowledge         | contract          | technical         | vision            | opportunity       | mention           | international     | letter            | sector            | knowledge         | support           | mention           | website           | develop           | armenia           | audit             | website           | mention           | knowledge         | mention           | \n",
       "\n",
       "\n"
      ],
      "text/plain": [
       "      Topic 1           Topic 2     Topic 3     Topic 4     Topic 5          \n",
       " [1,] job               legal       system      child       application      \n",
       " [2,] application       application application community   train            \n",
       " [3,] mention           job         network     development english          \n",
       " [4,] website           work        knowledge   armenia     language         \n",
       " [5,] post              law         experience  work        center           \n",
       " [6,] wwwcareercenteram knowledge   job         world       career           \n",
       " [7,] opportunity       armenia     database    program     armenia          \n",
       " [8,] date              education   datum       ensure      wwwcareercenteram\n",
       " [9,] armenia           insurance   support     support     student          \n",
       "[10,] knowledge         contract    technical   vision      opportunity      \n",
       "      Topic 6           Topic 7       Topic 8        Topic 9     Topic 10    \n",
       " [1,] application       program       job            project     open        \n",
       " [2,] bank              project       application    development job         \n",
       " [3,] job               armenia       office         application armenia     \n",
       " [4,] form              job           skill          program     website     \n",
       " [5,] wwwcareercenteram work          work           armenia     customer    \n",
       " [6,] attachment        experience    mention        rural       announcement\n",
       " [7,] announcement      application   administrative experience  application \n",
       " [8,] knowledge         organization  armenian       job         career      \n",
       " [9,] cjsc              development   english        market      opportunity \n",
       "[10,] mention           international letter         sector      knowledge   \n",
       "      Topic 11      Topic 12    Topic 13     Topic 14   Topic 15    Topic 16   \n",
       " [1,] project       market      bank         management job         accounting \n",
       " [2,] programme     sale        credit       project    service     financial  \n",
       " [3,] application   job         job          plan       application report     \n",
       " [4,] armenia       customer    application  ensure     ensure      finance    \n",
       " [5,] national      product     organization business   work        job        \n",
       " [6,] office        skill       mention      ability    hotel       knowledge  \n",
       " [7,] work          application armenia      manage     require     application\n",
       " [8,] international opportunity knowledge    skill      procedure   prepare    \n",
       " [9,] development   company     skill        manager    maintain    tax        \n",
       "[10,] support       mention     website      develop    armenia     audit      \n",
       "      Topic 17    Topic 18      Topic 19          Topic 20   \n",
       " [1,] test        job           job               application\n",
       " [2,] software    design        application       experience \n",
       " [3,] application application   mention           job        \n",
       " [4,] job         medium        work              development\n",
       " [5,] knowledge   web           company           software   \n",
       " [6,] design      website       website           knowledge  \n",
       " [7,] experience  work          candidate         work       \n",
       " [8,] development communication wwwcareercenteram developer  \n",
       " [9,] engineer    experience    opportunity       company    \n",
       "[10,] website     mention       knowledge         mention    "
      ]
     },
     "metadata": {},
     "output_type": "display_data"
    }
   ],
   "source": [
    "terms(topicModel, 10)"
   ]
  },
  {
   "cell_type": "markdown",
   "metadata": {},
   "source": [
    "Instead of numbers we would like to set descriptive names for the topics in the next step. For this reason, we concatenate the top 5 probable words of each topic into a pseudo-name for each topic. "
   ]
  },
  {
   "cell_type": "code",
   "execution_count": 25,
   "metadata": {},
   "outputs": [],
   "source": [
    "# the function terms extracts the most likely terms for each topic\n",
    "top5termsPerTopicProb <- terms(topicModel, 5)\n",
    "topicNames <- apply(top5termsPerTopicProb, 2, paste, collapse=\" \")"
   ]
  },
  {
   "cell_type": "markdown",
   "metadata": {},
   "source": [
    "Often, the ranking by probability returns words which might be very frequent in a topic but, at the same time, are not very distinctive. This might be the case for high frequent words such as \"year\", \"job\" or \"qualification\" that are no stopwords, but relevant for many topics. An alternative to probability based ranking is the ranking of the words by a tf/idf-like ranking mechanism. Within this procedure words get punished if they appear in many topics with high probability.\n",
    "\n",
    "### Ranking by score (lda package)\n",
    "\n",
    "This mechanism ranks the words according to a score defined by @chang_package_2010 and is defined as \n",
    "\n",
    "$$relevance(w|t) = p(w, t)  \\cdot \\left(\\log p(w|t) - \\frac{1}{K} \\sum_{t'} \\log p(w|t')\\right).$$"
   ]
  },
  {
   "cell_type": "code",
   "execution_count": 26,
   "metadata": {},
   "outputs": [
    {
     "data": {
      "text/html": [
       "<ol class=list-inline>\n",
       "\t<li>20</li>\n",
       "\t<li>10079</li>\n",
       "</ol>\n"
      ],
      "text/latex": [
       "\\begin{enumerate*}\n",
       "\\item 20\n",
       "\\item 10079\n",
       "\\end{enumerate*}\n"
      ],
      "text/markdown": [
       "1. 20\n",
       "2. 10079\n",
       "\n",
       "\n"
      ],
      "text/plain": [
       "[1]    20 10079"
      ]
     },
     "metadata": {},
     "output_type": "display_data"
    },
    {
     "name": "stdout",
     "output_type": "stream",
     "text": [
      "                                                           1 \n",
      "                       \"job application mention llc website\" \n",
      "                                                           2 \n",
      "                        \"legal law insurance legislation ra\" \n",
      "                                                           3 \n",
      "                      \"system network server database datum\" \n",
      "                                                           4 \n",
      "                  \"child community vision world development\" \n",
      "                                                           5 \n",
      "                         \"train student course school teach\" \n",
      "                                                           6 \n",
      "               \"bank attachment form downloaded ccdspannphp\" \n",
      "                                                           7 \n",
      "                       \"program project health public grant\" \n",
      "                                                           8 \n",
      "\"administrative assistant office translation correspondence\" \n",
      "                                                           9 \n",
      "                   \"project development rural sector market\" \n",
      "                                                          10 \n",
      "       \"customer orange operator telecommunication register\" \n",
      "                                                          11 \n",
      "                  \"project programme national osce caucasus\" \n",
      "                                                          12 \n",
      "                       \"market sale customer product client\" \n",
      "                                                          13 \n",
      "                              \"bank credit loan cjsc branch\" \n",
      "                                                          14 \n",
      "                   \"management project plan ensure business\" \n",
      "                                                          15 \n",
      "                        \"hotel vehicle food guest equipment\" \n",
      "                                                          16 \n",
      "                    \"accounting financial finance tax audit\" \n",
      "                                                          17 \n",
      "                 \"test software engineer design development\" \n",
      "                                                          18 \n",
      "                        \"medium design web designer content\" \n",
      "                                                          19 \n",
      "           \"engineer construction equipment company russian\" \n",
      "                                                          20 \n",
      "                   \"software developer development web java\" \n"
     ]
    }
   ],
   "source": [
    "# LDA package function top.topic.words needs a K x V matrix\n",
    "dim(tmResult$terms) # The output from the topicmodels package has the right dimension\n",
    "\n",
    "# The dimension is compatible so we can put beta directly into the function\n",
    "top5termsPerTopicScore <- top.topic.words(beta, num.words = 5, by.score = T)\n",
    "topicNamesByScore <- apply(top5termsPerTopicScore, 2, paste, collapse = \" \")\n",
    "print(topicNamesByScore)"
   ]
  },
  {
   "cell_type": "markdown",
   "metadata": {},
   "source": [
    "Now, for instance the term \"year\", which occurred `r sum(unlist(top5termsPerTopicProb) == \"year\")` time among the top 5 terms ranked by probability, only occurs `r sum(unlist(top5termsPerTopicScore) == \"year\")` time(s) using the score ranking.\n",
    "\n",
    "### Ranking by score II (LDAvis package)\n",
    "\n",
    "This alternate scoring strategy ranks the words according to a score defined by @sievert_ldavis:_2014 and is defined as\n",
    "\n",
    "$$relevance(w|t) = \\lambda  \\cdot \\log p(w|t) + (1 - \\lambda)\\cdot \\log \\frac{p(w|t)}{p(w)}.$$\n",
    "\n",
    "The parameter $\\lambda$, ranging between 0 and 1, influences the scoring by penalizing if a term is not only likely to a specific topic, but also to the entire collection. $\\lamba = 1$ simply ranks a term according to its probability. $\\lamba$ near 0 puts emphasis on the exlusivity of a term for a topic. \n"
   ]
  },
  {
   "cell_type": "code",
   "execution_count": 27,
   "metadata": {},
   "outputs": [
    {
     "name": "stdout",
     "output_type": "stream",
     "text": [
      "     1             2           3          4           5         6            \n",
      "[1,] \"job\"         \"legal\"     \"system\"   \"child\"     \"student\" \"bank\"       \n",
      "[2,] \"application\" \"law\"       \"network\"  \"community\" \"train\"   \"attachment\" \n",
      "[3,] \"mention\"     \"insurance\" \"server\"   \"vision\"    \"course\"  \"form\"       \n",
      "[4,] \"post\"        \"cascade\"   \"database\" \"world\"     \"teach\"   \"application\"\n",
      "[5,] \"website\"     \"contract\"  \"datum\"    \"adp\"       \"school\"  \"downloaded\" \n",
      "     7         8                9              10                  11         \n",
      "[1,] \"program\" \"administrative\" \"rural\"        \"orange\"            \"programme\"\n",
      "[2,] \"project\" \"assistant\"      \"project\"      \"operator\"          \"project\"  \n",
      "[3,] \"grant\"   \"office\"         \"agricultural\" \"register\"          \"national\" \n",
      "[4,] \"health\"  \"translation\"    \"development\"  \"telecommunication\" \"osce\"     \n",
      "[5,] \"public\"  \"correspondence\" \"sector\"       \"click\"             \"caucasus\" \n",
      "     12         13       14           15        16           17        \n",
      "[1,] \"market\"   \"credit\" \"management\" \"hotel\"   \"accounting\" \"test\"    \n",
      "[2,] \"sale\"     \"bank\"   \"ensure\"     \"vehicle\" \"financial\"  \"software\"\n",
      "[3,] \"customer\" \"loan\"   \"plan\"       \"guest\"   \"finance\"    \"engineer\"\n",
      "[4,] \"product\"  \"uco\"    \"project\"    \"food\"    \"tax\"        \"design\"  \n",
      "[5,] \"client\"   \"branch\" \"manage\"     \"safety\"  \"audit\"      \"qa\"      \n",
      "     18         19             20           \n",
      "[1,] \"medium\"   \"construction\" \"developer\"  \n",
      "[2,] \"designer\" \"job\"          \"software\"   \n",
      "[3,] \"content\"  \"mention\"      \"development\"\n",
      "[4,] \"design\"   \"company\"      \"web\"        \n",
      "[5,] \"web\"      \"application\"  \"experience\" \n"
     ]
    }
   ],
   "source": [
    "# Unfortunately, there is no package containing this formula. \n",
    "# So, we have to implement it on our own\n",
    "scoreByLambda <- function(p_w_t, num.words = 5, p_w, lambda)\n",
    "{\n",
    "  apply(p_w_t, 1, function(x, num.words, p_w,lambda) {\n",
    "    x <- lambda * log(x) + (1 - lambda) * log(x / p_w)\n",
    "    return(names(sort(x, decreasing = T)[1:num.words]))\n",
    "  }, num.words, p_w, lambda)\n",
    "  \n",
    "}\n",
    "\n",
    "p_w <- slam::col_sums(DTM) / sum(DTM)\n",
    "top5termsPerTopicScoreII <- scoreByLambda(tmResult$terms, num.words = 5, p_w, lambda = 0.6)\n",
    "topicNamesByScoreII <- apply(top5termsPerTopicScoreII, 2, paste, collapse = \" \")\n",
    "print(top5termsPerTopicScoreII)"
   ]
  },
  {
   "cell_type": "markdown",
   "metadata": {},
   "source": [
    "\n",
    "@sievert_ldavis:_2014 claim $\\lambda = 0.6$ as a good value balancing between the two terms of the scoring formula.\n",
    "\n",
    "## Ranking of topics\n",
    "\n",
    "Which topics are prominent in a document collection? Multiple approaches exist to determine a ranking of the inferred topics.\n",
    "\n",
    "### Approach 1\n",
    "\n",
    "We sort the topics by their probability among the whole collection:\n"
   ]
  },
  {
   "cell_type": "code",
   "execution_count": 28,
   "metadata": {},
   "outputs": [
    {
     "data": {
      "text/html": [
       "<dl class=dl-horizontal>\n",
       "\t<dt>job application mention post website</dt>\n",
       "\t\t<dd>0.137690275961204</dd>\n",
       "\t<dt>developer software development web experience</dt>\n",
       "\t\t<dd>0.0912354246173678</dd>\n",
       "\t<dt>market sale customer product client</dt>\n",
       "\t\t<dd>0.0740266396870864</dd>\n",
       "\t<dt>construction job mention company application</dt>\n",
       "\t\t<dd>0.0613688848058255</dd>\n",
       "\t<dt>test software engineer design qa</dt>\n",
       "\t\t<dd>0.0601646976252874</dd>\n",
       "\t<dt>administrative assistant office translation correspondence</dt>\n",
       "\t\t<dd>0.0597468213761427</dd>\n",
       "\t<dt>credit bank loan uco branch</dt>\n",
       "\t\t<dd>0.0508232333754137</dd>\n",
       "\t<dt>accounting financial finance tax audit</dt>\n",
       "\t\t<dd>0.0495179891280547</dd>\n",
       "\t<dt>management ensure plan project manage</dt>\n",
       "\t\t<dd>0.046849821580126</dd>\n",
       "\t<dt>system network server database datum</dt>\n",
       "\t\t<dd>0.0417202838412674</dd>\n",
       "\t<dt>program project grant health public</dt>\n",
       "\t\t<dd>0.0411840101436888</dd>\n",
       "\t<dt>bank attachment form application downloaded</dt>\n",
       "\t\t<dd>0.0373440381744472</dd>\n",
       "\t<dt>medium designer content design web</dt>\n",
       "\t\t<dd>0.0347976141440385</dd>\n",
       "\t<dt>programme project national osce caucasus</dt>\n",
       "\t\t<dd>0.0346779859345217</dd>\n",
       "\t<dt>legal law insurance cascade contract</dt>\n",
       "\t\t<dd>0.0342333333517058</dd>\n",
       "\t<dt>student train course teach school</dt>\n",
       "\t\t<dd>0.0324862150409378</dd>\n",
       "\t<dt>orange operator register telecommunication click</dt>\n",
       "\t\t<dd>0.0308585373485192</dd>\n",
       "\t<dt>rural project agricultural development sector</dt>\n",
       "\t\t<dd>0.0307385446050151</dd>\n",
       "\t<dt>hotel vehicle guest food safety</dt>\n",
       "\t\t<dd>0.0281203857676647</dd>\n",
       "\t<dt>child community vision world adp</dt>\n",
       "\t\t<dd>0.0224152634916857</dd>\n",
       "</dl>\n"
      ],
      "text/latex": [
       "\\begin{description*}\n",
       "\\item[job application mention post website] 0.137690275961204\n",
       "\\item[developer software development web experience] 0.0912354246173678\n",
       "\\item[market sale customer product client] 0.0740266396870864\n",
       "\\item[construction job mention company application] 0.0613688848058255\n",
       "\\item[test software engineer design qa] 0.0601646976252874\n",
       "\\item[administrative assistant office translation correspondence] 0.0597468213761427\n",
       "\\item[credit bank loan uco branch] 0.0508232333754137\n",
       "\\item[accounting financial finance tax audit] 0.0495179891280547\n",
       "\\item[management ensure plan project manage] 0.046849821580126\n",
       "\\item[system network server database datum] 0.0417202838412674\n",
       "\\item[program project grant health public] 0.0411840101436888\n",
       "\\item[bank attachment form application downloaded] 0.0373440381744472\n",
       "\\item[medium designer content design web] 0.0347976141440385\n",
       "\\item[programme project national osce caucasus] 0.0346779859345217\n",
       "\\item[legal law insurance cascade contract] 0.0342333333517058\n",
       "\\item[student train course teach school] 0.0324862150409378\n",
       "\\item[orange operator register telecommunication click] 0.0308585373485192\n",
       "\\item[rural project agricultural development sector] 0.0307385446050151\n",
       "\\item[hotel vehicle guest food safety] 0.0281203857676647\n",
       "\\item[child community vision world adp] 0.0224152634916857\n",
       "\\end{description*}\n"
      ],
      "text/markdown": [
       "job application mention post website\n",
       ":   0.137690275961204developer software development web experience\n",
       ":   0.0912354246173678market sale customer product client\n",
       ":   0.0740266396870864construction job mention company application\n",
       ":   0.0613688848058255test software engineer design qa\n",
       ":   0.0601646976252874administrative assistant office translation correspondence\n",
       ":   0.0597468213761427credit bank loan uco branch\n",
       ":   0.0508232333754137accounting financial finance tax audit\n",
       ":   0.0495179891280547management ensure plan project manage\n",
       ":   0.046849821580126system network server database datum\n",
       ":   0.0417202838412674program project grant health public\n",
       ":   0.0411840101436888bank attachment form application downloaded\n",
       ":   0.0373440381744472medium designer content design web\n",
       ":   0.0347976141440385programme project national osce caucasus\n",
       ":   0.0346779859345217legal law insurance cascade contract\n",
       ":   0.0342333333517058student train course teach school\n",
       ":   0.0324862150409378orange operator register telecommunication click\n",
       ":   0.0308585373485192rural project agricultural development sector\n",
       ":   0.0307385446050151hotel vehicle guest food safety\n",
       ":   0.0281203857676647child community vision world adp\n",
       ":   0.0224152634916857\n",
       "\n"
      ],
      "text/plain": [
       "                      job application mention post website \n",
       "                                                0.13769028 \n",
       "             developer software development web experience \n",
       "                                                0.09123542 \n",
       "                       market sale customer product client \n",
       "                                                0.07402664 \n",
       "              construction job mention company application \n",
       "                                                0.06136888 \n",
       "                          test software engineer design qa \n",
       "                                                0.06016470 \n",
       "administrative assistant office translation correspondence \n",
       "                                                0.05974682 \n",
       "                               credit bank loan uco branch \n",
       "                                                0.05082323 \n",
       "                    accounting financial finance tax audit \n",
       "                                                0.04951799 \n",
       "                     management ensure plan project manage \n",
       "                                                0.04684982 \n",
       "                      system network server database datum \n",
       "                                                0.04172028 \n",
       "                       program project grant health public \n",
       "                                                0.04118401 \n",
       "               bank attachment form application downloaded \n",
       "                                                0.03734404 \n",
       "                        medium designer content design web \n",
       "                                                0.03479761 \n",
       "                  programme project national osce caucasus \n",
       "                                                0.03467799 \n",
       "                      legal law insurance cascade contract \n",
       "                                                0.03423333 \n",
       "                         student train course teach school \n",
       "                                                0.03248622 \n",
       "          orange operator register telecommunication click \n",
       "                                                0.03085854 \n",
       "             rural project agricultural development sector \n",
       "                                                0.03073854 \n",
       "                           hotel vehicle guest food safety \n",
       "                                                0.02812039 \n",
       "                          child community vision world adp \n",
       "                                                0.02241526 "
      ]
     },
     "metadata": {},
     "output_type": "display_data"
    }
   ],
   "source": [
    "# What are the most probable topics in the entire collection?\n",
    "topicProportions <- colSums(theta) / sum(theta)  # mean probablities over all documents\n",
    "names(topicProportions) <- topicNamesByScoreII     # assign the topic names we created before\n",
    "sort(topicProportions, decreasing = TRUE) # show summed proportions in decreased order"
   ]
  },
  {
   "cell_type": "markdown",
   "metadata": {},
   "source": [
    "Some topics with a higher probability are observable. Those topics describe rather general contexts. Other topics represent tangible and interpretable topics (Cuba island, slavery, ...). "
   ]
  },
  {
   "cell_type": "markdown",
   "metadata": {},
   "source": [
    "## Approach 2\n",
    "\n",
    "We count how often a topic appears as the primary topic within the documents. This method is called *Rank-1*."
   ]
  },
  {
   "cell_type": "code",
   "execution_count": 29,
   "metadata": {},
   "outputs": [
    {
     "data": {
      "text/html": [
       "<dl class=dl-horizontal>\n",
       "\t<dt>job application mention post website</dt>\n",
       "\t\t<dd>2734</dd>\n",
       "\t<dt>developer software development web experience</dt>\n",
       "\t\t<dd>2005</dd>\n",
       "\t<dt>market sale customer product client</dt>\n",
       "\t\t<dd>1442</dd>\n",
       "\t<dt>construction job mention company application</dt>\n",
       "\t\t<dd>1309</dd>\n",
       "\t<dt>test software engineer design qa</dt>\n",
       "\t\t<dd>1219</dd>\n",
       "\t<dt>credit bank loan uco branch</dt>\n",
       "\t\t<dd>1069</dd>\n",
       "\t<dt>administrative assistant office translation correspondence</dt>\n",
       "\t\t<dd>1042</dd>\n",
       "\t<dt>accounting financial finance tax audit</dt>\n",
       "\t\t<dd>1019</dd>\n",
       "\t<dt>program project grant health public</dt>\n",
       "\t\t<dd>833</dd>\n",
       "\t<dt>bank attachment form application downloaded</dt>\n",
       "\t\t<dd>767</dd>\n",
       "\t<dt>programme project national osce caucasus</dt>\n",
       "\t\t<dd>730</dd>\n",
       "\t<dt>system network server database datum</dt>\n",
       "\t\t<dd>721</dd>\n",
       "\t<dt>rural project agricultural development sector</dt>\n",
       "\t\t<dd>617</dd>\n",
       "\t<dt>medium designer content design web</dt>\n",
       "\t\t<dd>585</dd>\n",
       "\t<dt>student train course teach school</dt>\n",
       "\t\t<dd>579</dd>\n",
       "\t<dt>legal law insurance cascade contract</dt>\n",
       "\t\t<dd>557</dd>\n",
       "\t<dt>orange operator register telecommunication click</dt>\n",
       "\t\t<dd>452</dd>\n",
       "\t<dt>management ensure plan project manage</dt>\n",
       "\t\t<dd>424</dd>\n",
       "\t<dt>hotel vehicle guest food safety</dt>\n",
       "\t\t<dd>397</dd>\n",
       "\t<dt>child community vision world adp</dt>\n",
       "\t\t<dd>384</dd>\n",
       "</dl>\n"
      ],
      "text/latex": [
       "\\begin{description*}\n",
       "\\item[job application mention post website] 2734\n",
       "\\item[developer software development web experience] 2005\n",
       "\\item[market sale customer product client] 1442\n",
       "\\item[construction job mention company application] 1309\n",
       "\\item[test software engineer design qa] 1219\n",
       "\\item[credit bank loan uco branch] 1069\n",
       "\\item[administrative assistant office translation correspondence] 1042\n",
       "\\item[accounting financial finance tax audit] 1019\n",
       "\\item[program project grant health public] 833\n",
       "\\item[bank attachment form application downloaded] 767\n",
       "\\item[programme project national osce caucasus] 730\n",
       "\\item[system network server database datum] 721\n",
       "\\item[rural project agricultural development sector] 617\n",
       "\\item[medium designer content design web] 585\n",
       "\\item[student train course teach school] 579\n",
       "\\item[legal law insurance cascade contract] 557\n",
       "\\item[orange operator register telecommunication click] 452\n",
       "\\item[management ensure plan project manage] 424\n",
       "\\item[hotel vehicle guest food safety] 397\n",
       "\\item[child community vision world adp] 384\n",
       "\\end{description*}\n"
      ],
      "text/markdown": [
       "job application mention post website\n",
       ":   2734developer software development web experience\n",
       ":   2005market sale customer product client\n",
       ":   1442construction job mention company application\n",
       ":   1309test software engineer design qa\n",
       ":   1219credit bank loan uco branch\n",
       ":   1069administrative assistant office translation correspondence\n",
       ":   1042accounting financial finance tax audit\n",
       ":   1019program project grant health public\n",
       ":   833bank attachment form application downloaded\n",
       ":   767programme project national osce caucasus\n",
       ":   730system network server database datum\n",
       ":   721rural project agricultural development sector\n",
       ":   617medium designer content design web\n",
       ":   585student train course teach school\n",
       ":   579legal law insurance cascade contract\n",
       ":   557orange operator register telecommunication click\n",
       ":   452management ensure plan project manage\n",
       ":   424hotel vehicle guest food safety\n",
       ":   397child community vision world adp\n",
       ":   384\n",
       "\n"
      ],
      "text/plain": [
       "                      job application mention post website \n",
       "                                                      2734 \n",
       "             developer software development web experience \n",
       "                                                      2005 \n",
       "                       market sale customer product client \n",
       "                                                      1442 \n",
       "              construction job mention company application \n",
       "                                                      1309 \n",
       "                          test software engineer design qa \n",
       "                                                      1219 \n",
       "                               credit bank loan uco branch \n",
       "                                                      1069 \n",
       "administrative assistant office translation correspondence \n",
       "                                                      1042 \n",
       "                    accounting financial finance tax audit \n",
       "                                                      1019 \n",
       "                       program project grant health public \n",
       "                                                       833 \n",
       "               bank attachment form application downloaded \n",
       "                                                       767 \n",
       "                  programme project national osce caucasus \n",
       "                                                       730 \n",
       "                      system network server database datum \n",
       "                                                       721 \n",
       "             rural project agricultural development sector \n",
       "                                                       617 \n",
       "                        medium designer content design web \n",
       "                                                       585 \n",
       "                         student train course teach school \n",
       "                                                       579 \n",
       "                      legal law insurance cascade contract \n",
       "                                                       557 \n",
       "          orange operator register telecommunication click \n",
       "                                                       452 \n",
       "                     management ensure plan project manage \n",
       "                                                       424 \n",
       "                           hotel vehicle guest food safety \n",
       "                                                       397 \n",
       "                          child community vision world adp \n",
       "                                                       384 "
      ]
     },
     "metadata": {},
     "output_type": "display_data"
    }
   ],
   "source": [
    "countsOfPrimaryTopics <- rep(0, K)\n",
    "names(countsOfPrimaryTopics) <- topicNamesByScoreII\n",
    "for (i in 1:dim(theta)[1]) {\n",
    "  topicsPerDoc <- theta[i, ] # select topic distribution for document i\n",
    "  # get first element position from ordered list\n",
    "  primaryTopic <- order(topicsPerDoc, decreasing = TRUE)[1] \n",
    "  countsOfPrimaryTopics[primaryTopic] <- countsOfPrimaryTopics[primaryTopic] + 1\n",
    "}\n",
    "sort(countsOfPrimaryTopics, decreasing = TRUE)"
   ]
  },
  {
   "cell_type": "markdown",
   "metadata": {},
   "source": [
    "As one can see, the Rank-1 sorting puts some very specific topics more to the upper ranks (e.g. terrorism). This sorting can be used for further analysis steps like the semantic interpretation of the topics in the documents, time series analysis of topics or the filtering of the documents w.r.t. specific topics. \n",
    "\n",
    "## Predict topics on new data\n",
    "\n",
    "Once a topic model has been created we can use the inferred posterior to infer a unknown document collection w.r.t. our reference topic model. This can very helpful in case topics should be compared with respect to a reference collection. In antother scenario, where a very large corpus should be modeled, we could calculate a model on a smaller sample of documents and then use this model to infer topics for the remaining out-of-sample documents.\n",
    "\n",
    "IMPORTANT: The matrix for the out-of-sample documents must be of the same dimension that the matrix from which the model was created. This could lead to empty or very short documents due to the unknown vocabulary of new documents\n"
   ]
  },
  {
   "cell_type": "code",
   "execution_count": 30,
   "metadata": {},
   "outputs": [
    {
     "data": {
      "text/html": [
       "<dl class=dl-horizontal>\n",
       "\t<dt>job application mention post website</dt>\n",
       "\t\t<dd>0.210150468060844</dd>\n",
       "\t<dt>market sale customer product client</dt>\n",
       "\t\t<dd>0.183824536358107</dd>\n",
       "\t<dt>administrative assistant office translation correspondence</dt>\n",
       "\t\t<dd>0.134876968958022</dd>\n",
       "\t<dt>construction job mention company application</dt>\n",
       "\t\t<dd>0.119413866536281</dd>\n",
       "\t<dt>accounting financial finance tax audit</dt>\n",
       "\t\t<dd>0.115946907414972</dd>\n",
       "\t<dt>hotel vehicle guest food safety</dt>\n",
       "\t\t<dd>0.0956872313763558</dd>\n",
       "\t<dt>test software engineer design qa</dt>\n",
       "\t\t<dd>0.0398405680477088</dd>\n",
       "\t<dt>management ensure plan project manage</dt>\n",
       "\t\t<dd>0.0245956789899794</dd>\n",
       "\t<dt>legal law insurance cascade contract</dt>\n",
       "\t\t<dd>0.0196230422254422</dd>\n",
       "\t<dt>developer software development web experience</dt>\n",
       "\t\t<dd>0.00978763475856139</dd>\n",
       "\t<dt>medium designer content design web</dt>\n",
       "\t\t<dd>0.00946424834525125</dd>\n",
       "\t<dt>student train course teach school</dt>\n",
       "\t\t<dd>0.00782419052037776</dd>\n",
       "\t<dt>rural project agricultural development sector</dt>\n",
       "\t\t<dd>0.00666966181331336</dd>\n",
       "\t<dt>orange operator register telecommunication click</dt>\n",
       "\t\t<dd>0.00460918622901536</dd>\n",
       "\t<dt>programme project national osce caucasus</dt>\n",
       "\t\t<dd>0.00455897219168122</dd>\n",
       "\t<dt>child community vision world adp</dt>\n",
       "\t\t<dd>0.00332892478969809</dd>\n",
       "\t<dt>program project grant health public</dt>\n",
       "\t\t<dd>0.00277310709665971</dd>\n",
       "\t<dt>bank attachment form application downloaded</dt>\n",
       "\t\t<dd>0.00244239996700306</dd>\n",
       "\t<dt>system network server database datum</dt>\n",
       "\t\t<dd>0.00237204976369097</dd>\n",
       "\t<dt>credit bank loan uco branch</dt>\n",
       "\t\t<dd>0.0022103565570359</dd>\n",
       "</dl>\n"
      ],
      "text/latex": [
       "\\begin{description*}\n",
       "\\item[job application mention post website] 0.210150468060844\n",
       "\\item[market sale customer product client] 0.183824536358107\n",
       "\\item[administrative assistant office translation correspondence] 0.134876968958022\n",
       "\\item[construction job mention company application] 0.119413866536281\n",
       "\\item[accounting financial finance tax audit] 0.115946907414972\n",
       "\\item[hotel vehicle guest food safety] 0.0956872313763558\n",
       "\\item[test software engineer design qa] 0.0398405680477088\n",
       "\\item[management ensure plan project manage] 0.0245956789899794\n",
       "\\item[legal law insurance cascade contract] 0.0196230422254422\n",
       "\\item[developer software development web experience] 0.00978763475856139\n",
       "\\item[medium designer content design web] 0.00946424834525125\n",
       "\\item[student train course teach school] 0.00782419052037776\n",
       "\\item[rural project agricultural development sector] 0.00666966181331336\n",
       "\\item[orange operator register telecommunication click] 0.00460918622901536\n",
       "\\item[programme project national osce caucasus] 0.00455897219168122\n",
       "\\item[child community vision world adp] 0.00332892478969809\n",
       "\\item[program project grant health public] 0.00277310709665971\n",
       "\\item[bank attachment form application downloaded] 0.00244239996700306\n",
       "\\item[system network server database datum] 0.00237204976369097\n",
       "\\item[credit bank loan uco branch] 0.0022103565570359\n",
       "\\end{description*}\n"
      ],
      "text/markdown": [
       "job application mention post website\n",
       ":   0.210150468060844market sale customer product client\n",
       ":   0.183824536358107administrative assistant office translation correspondence\n",
       ":   0.134876968958022construction job mention company application\n",
       ":   0.119413866536281accounting financial finance tax audit\n",
       ":   0.115946907414972hotel vehicle guest food safety\n",
       ":   0.0956872313763558test software engineer design qa\n",
       ":   0.0398405680477088management ensure plan project manage\n",
       ":   0.0245956789899794legal law insurance cascade contract\n",
       ":   0.0196230422254422developer software development web experience\n",
       ":   0.00978763475856139medium designer content design web\n",
       ":   0.00946424834525125student train course teach school\n",
       ":   0.00782419052037776rural project agricultural development sector\n",
       ":   0.00666966181331336orange operator register telecommunication click\n",
       ":   0.00460918622901536programme project national osce caucasus\n",
       ":   0.00455897219168122child community vision world adp\n",
       ":   0.00332892478969809program project grant health public\n",
       ":   0.00277310709665971bank attachment form application downloaded\n",
       ":   0.00244239996700306system network server database datum\n",
       ":   0.00237204976369097credit bank loan uco branch\n",
       ":   0.0022103565570359\n",
       "\n"
      ],
      "text/plain": [
       "                      job application mention post website \n",
       "                                               0.210150468 \n",
       "                       market sale customer product client \n",
       "                                               0.183824536 \n",
       "administrative assistant office translation correspondence \n",
       "                                               0.134876969 \n",
       "              construction job mention company application \n",
       "                                               0.119413867 \n",
       "                    accounting financial finance tax audit \n",
       "                                               0.115946907 \n",
       "                           hotel vehicle guest food safety \n",
       "                                               0.095687231 \n",
       "                          test software engineer design qa \n",
       "                                               0.039840568 \n",
       "                     management ensure plan project manage \n",
       "                                               0.024595679 \n",
       "                      legal law insurance cascade contract \n",
       "                                               0.019623042 \n",
       "             developer software development web experience \n",
       "                                               0.009787635 \n",
       "                        medium designer content design web \n",
       "                                               0.009464248 \n",
       "                         student train course teach school \n",
       "                                               0.007824191 \n",
       "             rural project agricultural development sector \n",
       "                                               0.006669662 \n",
       "          orange operator register telecommunication click \n",
       "                                               0.004609186 \n",
       "                  programme project national osce caucasus \n",
       "                                               0.004558972 \n",
       "                          child community vision world adp \n",
       "                                               0.003328925 \n",
       "                       program project grant health public \n",
       "                                               0.002773107 \n",
       "               bank attachment form application downloaded \n",
       "                                               0.002442400 \n",
       "                      system network server database datum \n",
       "                                               0.002372050 \n",
       "                               credit bank loan uco branch \n",
       "                                               0.002210357 "
      ]
     },
     "metadata": {},
     "output_type": "display_data"
    },
    {
     "data": {
      "text/html": [
       "<dl class=dl-horizontal>\n",
       "\t<dt>job application mention llc website</dt>\n",
       "\t\t<dd>2</dd>\n",
       "\t<dt>engineer construction equipment company russian</dt>\n",
       "\t\t<dd>2</dd>\n",
       "\t<dt>market sale customer product client</dt>\n",
       "\t\t<dd>1</dd>\n",
       "\t<dt>accounting financial finance tax audit</dt>\n",
       "\t\t<dd>1</dd>\n",
       "\t<dt>legal law insurance legislation ra</dt>\n",
       "\t\t<dd>0</dd>\n",
       "\t<dt>system network server database datum</dt>\n",
       "\t\t<dd>0</dd>\n",
       "\t<dt>child community vision world development</dt>\n",
       "\t\t<dd>0</dd>\n",
       "\t<dt>train student course school teach</dt>\n",
       "\t\t<dd>0</dd>\n",
       "\t<dt>bank attachment form downloaded ccdspannphp</dt>\n",
       "\t\t<dd>0</dd>\n",
       "\t<dt>program project health public grant</dt>\n",
       "\t\t<dd>0</dd>\n",
       "\t<dt>administrative assistant office translation correspondence</dt>\n",
       "\t\t<dd>0</dd>\n",
       "\t<dt>project development rural sector market</dt>\n",
       "\t\t<dd>0</dd>\n",
       "\t<dt>customer orange operator telecommunication register</dt>\n",
       "\t\t<dd>0</dd>\n",
       "\t<dt>project programme national osce caucasus</dt>\n",
       "\t\t<dd>0</dd>\n",
       "\t<dt>bank credit loan cjsc branch</dt>\n",
       "\t\t<dd>0</dd>\n",
       "\t<dt>management project plan ensure business</dt>\n",
       "\t\t<dd>0</dd>\n",
       "\t<dt>hotel vehicle food guest equipment</dt>\n",
       "\t\t<dd>0</dd>\n",
       "\t<dt>test software engineer design development</dt>\n",
       "\t\t<dd>0</dd>\n",
       "\t<dt>medium design web designer content</dt>\n",
       "\t\t<dd>0</dd>\n",
       "\t<dt>software developer development web java</dt>\n",
       "\t\t<dd>0</dd>\n",
       "</dl>\n"
      ],
      "text/latex": [
       "\\begin{description*}\n",
       "\\item[job application mention llc website] 2\n",
       "\\item[engineer construction equipment company russian] 2\n",
       "\\item[market sale customer product client] 1\n",
       "\\item[accounting financial finance tax audit] 1\n",
       "\\item[legal law insurance legislation ra] 0\n",
       "\\item[system network server database datum] 0\n",
       "\\item[child community vision world development] 0\n",
       "\\item[train student course school teach] 0\n",
       "\\item[bank attachment form downloaded ccdspannphp] 0\n",
       "\\item[program project health public grant] 0\n",
       "\\item[administrative assistant office translation correspondence] 0\n",
       "\\item[project development rural sector market] 0\n",
       "\\item[customer orange operator telecommunication register] 0\n",
       "\\item[project programme national osce caucasus] 0\n",
       "\\item[bank credit loan cjsc branch] 0\n",
       "\\item[management project plan ensure business] 0\n",
       "\\item[hotel vehicle food guest equipment] 0\n",
       "\\item[test software engineer design development] 0\n",
       "\\item[medium design web designer content] 0\n",
       "\\item[software developer development web java] 0\n",
       "\\end{description*}\n"
      ],
      "text/markdown": [
       "job application mention llc website\n",
       ":   2engineer construction equipment company russian\n",
       ":   2market sale customer product client\n",
       ":   1accounting financial finance tax audit\n",
       ":   1legal law insurance legislation ra\n",
       ":   0system network server database datum\n",
       ":   0child community vision world development\n",
       ":   0train student course school teach\n",
       ":   0bank attachment form downloaded ccdspannphp\n",
       ":   0program project health public grant\n",
       ":   0administrative assistant office translation correspondence\n",
       ":   0project development rural sector market\n",
       ":   0customer orange operator telecommunication register\n",
       ":   0project programme national osce caucasus\n",
       ":   0bank credit loan cjsc branch\n",
       ":   0management project plan ensure business\n",
       ":   0hotel vehicle food guest equipment\n",
       ":   0test software engineer design development\n",
       ":   0medium design web designer content\n",
       ":   0software developer development web java\n",
       ":   0\n",
       "\n"
      ],
      "text/plain": [
       "                       job application mention llc website \n",
       "                                                         2 \n",
       "           engineer construction equipment company russian \n",
       "                                                         2 \n",
       "                       market sale customer product client \n",
       "                                                         1 \n",
       "                    accounting financial finance tax audit \n",
       "                                                         1 \n",
       "                        legal law insurance legislation ra \n",
       "                                                         0 \n",
       "                      system network server database datum \n",
       "                                                         0 \n",
       "                  child community vision world development \n",
       "                                                         0 \n",
       "                         train student course school teach \n",
       "                                                         0 \n",
       "               bank attachment form downloaded ccdspannphp \n",
       "                                                         0 \n",
       "                       program project health public grant \n",
       "                                                         0 \n",
       "administrative assistant office translation correspondence \n",
       "                                                         0 \n",
       "                   project development rural sector market \n",
       "                                                         0 \n",
       "       customer orange operator telecommunication register \n",
       "                                                         0 \n",
       "                  project programme national osce caucasus \n",
       "                                                         0 \n",
       "                              bank credit loan cjsc branch \n",
       "                                                         0 \n",
       "                   management project plan ensure business \n",
       "                                                         0 \n",
       "                        hotel vehicle food guest equipment \n",
       "                                                         0 \n",
       "                 test software engineer design development \n",
       "                                                         0 \n",
       "                        medium design web designer content \n",
       "                                                         0 \n",
       "                   software developer development web java \n",
       "                                                         0 "
      ]
     },
     "metadata": {},
     "output_type": "display_data"
    }
   ],
   "source": [
    "selector <- textdata %>% filter(Company == \"Samsung Electronics Representative Office in Armenia\") %>% select(\"d_id\")\n",
    "selector <- rownames(DTM) %in% as.character(selector$d_id)\n",
    "\n",
    "new_data <- posterior(topicModel, DTM[selector, ])\n",
    "save(new_data, file = \"tmResult_documents.RData\")\n",
    "\n",
    "# Proportions of topics\n",
    "topicProportionsNewData <- colSums(new_data$topics) / sum(new_data$topics)\n",
    "names(topicProportionsNewData) <- topicNamesByScoreII \n",
    "sort(topicProportionsNewData, decreasing = TRUE)\n",
    "\n",
    "\n",
    "# Rank-1 metric\n",
    "countsOfPrimaryTopicsNewData <- rep(0, K)\n",
    "names(countsOfPrimaryTopicsNewData) <- topicNamesByScore\n",
    "for (i in 1:nrow(DTM[selector, ])) {\n",
    "  topicsPerDoc <- new_data$topics[i, ] \n",
    "  primaryTopic <- order(topicsPerDoc, decreasing = TRUE)[1] \n",
    "  countsOfPrimaryTopicsNewData[primaryTopic] <- countsOfPrimaryTopicsNewData[primaryTopic] + 1\n",
    "}\n",
    "sort(countsOfPrimaryTopicsNewData, decreasing = TRUE)"
   ]
  },
  {
   "cell_type": "markdown",
   "metadata": {},
   "source": [
    "## Use POS-Tagging for pre-processing\n",
    "\n",
    "Very frequent words can impede the modelling itself, resp. the interpretation of a topic model result. Due to this, filtering stop words beforhand is usually a very good idea. \n",
    "\n",
    "Further, it can be a good strategy to filter specific word types such as verbs or adjectives. In the next code block we'll process the corpus with POS-tagging and only use nouns and named entities to calculate the model. \n",
    "\n",
    "First, we create some functions to run the tagging.\n"
   ]
  },
  {
   "cell_type": "code",
   "execution_count": 31,
   "metadata": {},
   "outputs": [],
   "source": [
    "# Function to convert a document in a vector of sentences\n",
    "convert_text_to_sentences_postag <- function(text, SentModel = NULL, TokModel = NULL, POSModel = NULL) {\n",
    "  # Convert to NLP:String Object\n",
    "  text <- NLP::as.String(text)\n",
    "  # Annotate sentence boundaries\n",
    "  sentenceBoundaries <- NLP::annotate(text, SentModel)\n",
    "  # Select the sentences out of the original text object using the annotations\n",
    "  sentences <- text[sentenceBoundaries]\n",
    "  # Pass sentences to POS annotator\n",
    "  sentences <- sapply(sentences, processPos, TokModel = TokModel, POSModel = POSModel)\n",
    "  document <- paste(sentences[\"POStagged\", ], collapse = \" \")\n",
    "  # return the documents\n",
    "  return(document)\n",
    "}\n",
    "\n",
    "processPos <- function(sentence, TokModel = NULL, POSModel = NULL) {\n",
    "    sentence <- as.String(sentence)\n",
    "    # Add sentence annotation\n",
    "    a1 <- Annotation(1L, \"sentence\", 1L, nchar(sentence))\n",
    "    # Add token annotation\n",
    "    a2 <- NLP::annotate(sentence, TokModel, a1)\n",
    "    # Add POS annotation\n",
    "    a3 <- NLP::annotate(sentence, POSModel, a2)\n",
    "    # Select words from annotation list\n",
    "    a3w <- a3[a3$type == \"word\"]\n",
    "    # Select POS tags from annotation list\n",
    "    POStags <- unlist(lapply(a3w$features, `[[`, \"POS\"))\n",
    "    # Concat word+/+tag for all words in the sentences\n",
    "    POStagged <- paste(sprintf(\"%s/%s\", sentence[a3w], POStags), collapse = \" \")\n",
    "    # return result as list\n",
    "    list(POStagged = POStagged, POStags = POStags)\n",
    "}\n",
    "\n",
    "# Function to convert a vector of documents into a vector of POS-Tagged documents\n",
    "postag_text_source <- function(text, ...) {\n",
    "  # load models\n",
    "  WTA <- Maxent_Word_Token_Annotator(model = \"resources/en-token.bin\")\n",
    "  STA <- Maxent_Sent_Token_Annotator(model = \"resources/en-sent.bin\")\n",
    "  PTA <- Maxent_POS_Tag_Annotator(model = \"resources/en-pos-maxent.bin\")\n",
    "  # create txt-progress bar to follow progress of pos tagging\n",
    "  pb <- txtProgressBar(min = 0, max = length(text))\n",
    "  i <- 0\n",
    "  # loop over documents to extract sentences and pos-tag them\n",
    "  docs <- sapply(text, FUN=function(x) {\n",
    "    i <<- i + 1\n",
    "    setTxtProgressBar(pb, i)\n",
    "    convert_text_to_sentences_postag(x, SentModel = STA, TokModel = WTA, POSModel = PTA)\n",
    "  }, ...)\n",
    "  close(pb)\n",
    "  return(docs)\n",
    "}\n"
   ]
  },
  {
   "cell_type": "markdown",
   "metadata": {},
   "source": [
    "Now we run the tagging. This may take a while. Consider loading the precomuted results with `load(\"pos_result.RData\")`."
   ]
  },
  {
   "cell_type": "code",
   "execution_count": 32,
   "metadata": {},
   "outputs": [
    {
     "name": "stdout",
     "output_type": "stream",
     "text": [
      "================================================================================\n"
     ]
    }
   ],
   "source": [
    "pos_result <- postag_text_source(textdata$jobpost)\n",
    "save(pos_result, file = \"pos_result.RData\")"
   ]
  },
  {
   "cell_type": "markdown",
   "metadata": {},
   "source": [
    "Let's check the results. All tokens in the first document should now have a Part-od-Speech-Tag in the end. This allows subsequent processing steps to distinguish, for instance, the term \"state\" as noun (\"state/nn\") from state as verb (\"state/vb\")."
   ]
  },
  {
   "cell_type": "code",
   "execution_count": 33,
   "metadata": {},
   "outputs": [
    {
     "data": {
      "text/html": [
       "'AMERIA/NNP Investment/NNP Consulting/NNP Company/NNP JOB/NNP TITLE/NNP :/: Chief/NNP Financial/NNP Officer/NNP POSITION/NNP LOCATION/NNP :/: Yerevan/NNP ,/, Armenia/NNP JOB/NNP DESCRIPTION/NNP :/: AMERIA/NNP Investment/NNP Consulting/NNP Company/NNP is/VBZ seeking/VBG a/DT Chief/NNP Financial/NNP Of'"
      ],
      "text/latex": [
       "'AMERIA/NNP Investment/NNP Consulting/NNP Company/NNP JOB/NNP TITLE/NNP :/: Chief/NNP Financial/NNP Officer/NNP POSITION/NNP LOCATION/NNP :/: Yerevan/NNP ,/, Armenia/NNP JOB/NNP DESCRIPTION/NNP :/: AMERIA/NNP Investment/NNP Consulting/NNP Company/NNP is/VBZ seeking/VBG a/DT Chief/NNP Financial/NNP Of'"
      ],
      "text/markdown": [
       "'AMERIA/NNP Investment/NNP Consulting/NNP Company/NNP JOB/NNP TITLE/NNP :/: Chief/NNP Financial/NNP Officer/NNP POSITION/NNP LOCATION/NNP :/: Yerevan/NNP ,/, Armenia/NNP JOB/NNP DESCRIPTION/NNP :/: AMERIA/NNP Investment/NNP Consulting/NNP Company/NNP is/VBZ seeking/VBG a/DT Chief/NNP Financial/NNP Of'"
      ],
      "text/plain": [
       "[1] \"AMERIA/NNP Investment/NNP Consulting/NNP Company/NNP JOB/NNP TITLE/NNP :/: Chief/NNP Financial/NNP Officer/NNP POSITION/NNP LOCATION/NNP :/: Yerevan/NNP ,/, Armenia/NNP JOB/NNP DESCRIPTION/NNP :/: AMERIA/NNP Investment/NNP Consulting/NNP Company/NNP is/VBZ seeking/VBG a/DT Chief/NNP Financial/NNP Of\""
      ]
     },
     "metadata": {},
     "output_type": "display_data"
    }
   ],
   "source": [
    "substr(pos_result[[1]], 0, 300)\n",
    "textdata$POS_TEXT <- pos_result"
   ]
  },
  {
   "cell_type": "markdown",
   "metadata": {},
   "source": [
    "Now, we can use this annotated text corpus to create a new DTM. From this DTM, we remove all tokens, which do not belong into the NN(S) classes for nouns, or NNP(S) classes for proper nouns. Finally, we compute a new topic model."
   ]
  },
  {
   "cell_type": "code",
   "execution_count": 34,
   "metadata": {},
   "outputs": [
    {
     "name": "stdout",
     "output_type": "stream",
     "text": [
      "K = 30; V = 12164; M = 18891\n",
      "Sampling 500 iterations!\n",
      "Iteration 100 ...\n",
      "Iteration 200 ...\n",
      "Iteration 300 ...\n",
      "Iteration 400 ...\n",
      "Iteration 500 ...\n",
      "Gibbs sampling completed!\n",
      "     1                2                3              4           \n",
      "[1,] \"developer/nnp\"  \"law/nn\"         \"testing/nn\"   \"media/nns\" \n",
      "[2,] \"development/nn\" \"audit/nn\"       \"test/nn\"      \"pr/nnp\"    \n",
      "[3,] \"software/nn\"    \"ra/nnp\"         \"qa/nnp\"       \"media/nnp\" \n",
      "[4,] \"java/nnp\"       \"legislation/nn\" \"engineer/nnp\" \"events/nns\"\n",
      "[5,] \"software/nnp\"   \"contracts/nns\"  \"tools/nns\"    \"program/nn\"\n",
      "     5              6               7                    8               \n",
      "[1,] \"students/nns\" \"orange/nnp\"    \"assistant/nnp\"      \"bank/nnp\"      \n",
      "[2,] \"courses/nns\"  \"customers/nns\" \"office/nn\"          \"procredit/nnp\" \n",
      "[3,] \"course/nn\"    \"customer/nn\"   \"correspondence/nn\"  \"bank/nn\"       \n",
      "[4,] \"training/nn\"  \"click/nn\"      \"meetings/nns\"       \"ameriabank/nnp\"\n",
      "[5,] \"english/nnp\"  \"operator/nn\"   \"administrative/nnp\" \"form/nn\"       \n",
      "     9               10               11               12            \n",
      "[1,] \"sales/nns\"     \"hr/nnp\"         \"goods/nns\"      \"world/nnp\"   \n",
      "[2,] \"marketing/nn\"  \"training/nn\"    \"llc/nnp\"        \"vision/nnp\"  \n",
      "[3,] \"market/nn\"     \"staff/nn\"       \"vehicle/nn\"     \"children/nns\"\n",
      "[4,] \"marketing/nnp\" \"human/nnp\"      \"procurement/nn\" \"child/nn\"    \n",
      "[5,] \"customer/nn\"   \"recruitment/nn\" \"import/nn\"      \"community/nn\"\n",
      "     13             14               15               16              \n",
      "[1,] \"design/nn\"    \"accounting/nn\"  \"web/nn\"         \"cascade/nnp\"   \n",
      "[2,] \"software/nn\"  \"accountant/nnp\" \"design/nn\"      \"insurance/nnp\" \n",
      "[3,] \"synopsys/nnp\" \"finance/nnp\"    \"web/nnp\"        \"foundation/nnp\"\n",
      "[4,] \"engineer/nnp\" \"tax/nn\"         \"development/nn\" \"education/nnp\" \n",
      "[5,] \"mentor/nnp\"   \"accounting/nnp\" \"sql/nnp\"        \"training/nn\"   \n",
      "     17                18           19               20               \n",
      "[1,] \"construction/nn\" \"credit/nnp\" \"software/nn\"    \"card/nnp\"       \n",
      "[2,] \"equipment/nn\"    \"credit/nn\"  \"development/nn\" \"rural/nnp\"      \n",
      "[3,] \"food/nn\"         \"loan/nn\"    \"company/nn\"     \"development/nn\" \n",
      "[4,] \"safety/nn\"       \"uco/nnp\"    \"software/nnp\"   \"mcaarmenia/nnp\" \n",
      "[5,] \"hotel/nnp\"       \"finca/nnp\"  \"team/nn\"        \"development/nnp\"\n",
      "     21              22               23            24                 \n",
      "[1,] \"armentel/nnp\"  \"project/nn\"     \"systems/nns\" \"project/nn\"       \n",
      "[2,] \"lycos/nnp\"     \"usaid/nnp\"      \"network/nn\"  \"project/nnp\"      \n",
      "[3,] \"cjsc/nnp\"      \"sector/nn\"      \"security/nn\" \"management/nn\"    \n",
      "[4,] \"company/nn\"    \"project/nnp\"    \"it/nnp\"      \"undp/nnp\"         \n",
      "[5,] \"languages/nns\" \"development/nn\" \"system/nn\"   \"implementation/nn\"\n",
      "     25               26                   27             \n",
      "[1,] \"caucasus/nnp\"   \"representative/nnp\" \"designer/nnp\" \n",
      "[2,] \"programme/nn\"   \"medical/nnp\"        \"adobe/nnp\"    \n",
      "[3,] \"georgia/nnp\"    \"company/nn\"         \"design/nn\"    \n",
      "[4,] \"rec/nnp\"        \"doctors/nns\"        \"photoshop/nnp\"\n",
      "[5,] \"development/nn\" \"russian/nnp\"        \"msf/nnp\"      \n",
      "     28                     29           30           \n",
      "[1,] \"llc/nnp\"              \"bank/nnp\"   \"osce/nnp\"   \n",
      "[2,] \"criteria/nnp\"         \"banking/nn\" \"office/nnp\" \n",
      "[3,] \"job/nn\"               \"form/nn\"    \"council/nnp\"\n",
      "[4,] \"to//nnp\"              \"cjsc/nnp\"   \"rights/nns\" \n",
      "[5,] \"wwwcareercenteram/nn\" \"hsbc/nnp\"   \"human/nnp\"  \n"
     ]
    }
   ],
   "source": [
    "# Create corpus object\n",
    "data_corpus_pos <- corpus(textdata$POS_TEXT, docnames = textdata$d_id)\n",
    " \n",
    "\n",
    "data_dfm_entries_pos <- data_corpus_pos %>% tokens(what = \"fasterword\") %>% tokens_tolower() %>%\n",
    "  tokens_ngrams(1) %>% dfm() \n",
    "\n",
    "\n",
    "data_dfm_entries_sub_pos <- data_dfm_entries_pos %>% dfm_trim(min_docfreq = 5) \n",
    "\n",
    "colnames(data_dfm_entries_sub_pos) <- colnames(data_dfm_entries_sub_pos) %>% stringi::stri_replace_all_regex(\"[^_/a-z]\", \"\") \n",
    "\n",
    "data_dfm_entries_sub_pos <- dfm_compress(data_dfm_entries_sub_pos, \"features\")\n",
    "\n",
    "data_dfm_entries_sub_pos <- \n",
    "  data_dfm_entries_sub_pos[rowSums(data_dfm_entries_sub_pos) >=10, nchar(colnames(data_dfm_entries_sub_pos)) > 1]\n",
    "\n",
    "DTM_pos <- data_dfm_entries_sub_pos\n",
    "\n",
    "# Remove unwanted pos-tags by using a regex query to the DTM\n",
    "idx <- grep(colnames(DTM_pos), perl = T, pattern = \"(/nns?|/nnps?)$\")\n",
    "\n",
    "DTM_pos <- DTM_pos[, idx]\n",
    "\n",
    "#This needs to be an extra step in order to work properly\n",
    "DTM_pos <- DTM_pos[rowSums(DTM_pos) > 0, ]\n",
    "\n",
    "# number of topics\n",
    "K <- 30\n",
    "\n",
    "# compute the LDA model, inference via 500 iterations of Gibbs sampling\n",
    "topicModel_pos <- LDA(DTM_pos, K, method = \"Gibbs\", control = list(iter = 500, verbose = 100, alpha = 0.1, estimate.beta = TRUE))\n",
    "top5termsPerTopicScore <- top.topic.words(posterior(topicModel_pos)$terms, num.words = 5, by.score = T)\n",
    "print(top5termsPerTopicScore)\n"
   ]
  },
  {
   "cell_type": "markdown",
   "metadata": {},
   "source": [
    "As you can see, the topic terms consist only (proper) nouns and might be easier to interpret."
   ]
  },
  {
   "cell_type": "code",
   "execution_count": null,
   "metadata": {},
   "outputs": [],
   "source": []
  }
 ],
 "metadata": {
  "kernelspec": {
   "display_name": "R",
   "language": "R",
   "name": "ir"
  },
  "language_info": {
   "codemirror_mode": "r",
   "file_extension": ".r",
   "mimetype": "text/x-r-source",
   "name": "R",
   "pygments_lexer": "r",
   "version": "3.3.2"
  }
 },
 "nbformat": 4,
 "nbformat_minor": 2
}
